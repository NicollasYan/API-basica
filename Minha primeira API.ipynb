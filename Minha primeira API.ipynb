{
 "cells": [
  {
   "cell_type": "markdown",
   "id": "b00f9444",
   "metadata": {},
   "source": [
    "## Fazendo requisição para API"
   ]
  },
  {
   "cell_type": "code",
   "execution_count": 46,
   "id": "c706e033",
   "metadata": {},
   "outputs": [],
   "source": [
    "import requests"
   ]
  },
  {
   "cell_type": "code",
   "execution_count": 1,
   "id": "064c914b",
   "metadata": {
    "scrolled": false
   },
   "outputs": [
    {
     "ename": "NameError",
     "evalue": "name 'requests' is not defined",
     "output_type": "error",
     "traceback": [
      "\u001b[1;31m---------------------------------------------------------------------------\u001b[0m",
      "\u001b[1;31mNameError\u001b[0m                                 Traceback (most recent call last)",
      "\u001b[1;32m<ipython-input-1-7cdfe58a5a1e>\u001b[0m in \u001b[0;36m<module>\u001b[1;34m\u001b[0m\n\u001b[0;32m      2\u001b[0m \u001b[1;31m# Mas eu também posso utilizar o link que a API disponibiliza após rodar a aplicação.\u001b[0m\u001b[1;33m\u001b[0m\u001b[1;33m\u001b[0m\u001b[1;33m\u001b[0m\u001b[0m\n\u001b[0;32m      3\u001b[0m \u001b[0mlink\u001b[0m \u001b[1;33m=\u001b[0m \u001b[1;34m\"https://Rest-API.nicollasyan.repl.co/vendas/produtos/local/Camiseta Xadrez/quantidade\"\u001b[0m\u001b[1;33m\u001b[0m\u001b[1;33m\u001b[0m\u001b[0m\n\u001b[1;32m----> 4\u001b[1;33m \u001b[0mrequisicao\u001b[0m \u001b[1;33m=\u001b[0m \u001b[0mrequests\u001b[0m\u001b[1;33m.\u001b[0m\u001b[0mget\u001b[0m\u001b[1;33m(\u001b[0m\u001b[0mlink\u001b[0m\u001b[1;33m)\u001b[0m\u001b[1;33m\u001b[0m\u001b[1;33m\u001b[0m\u001b[0m\n\u001b[0m\u001b[0;32m      5\u001b[0m \u001b[0mprint\u001b[0m\u001b[1;33m(\u001b[0m\u001b[0mrequisicao\u001b[0m\u001b[1;33m)\u001b[0m\u001b[1;33m\u001b[0m\u001b[1;33m\u001b[0m\u001b[0m\n\u001b[0;32m      6\u001b[0m \u001b[0mprint\u001b[0m\u001b[1;33m(\u001b[0m\u001b[0mrequisicao\u001b[0m\u001b[1;33m.\u001b[0m\u001b[0mjson\u001b[0m\u001b[1;33m(\u001b[0m\u001b[1;33m)\u001b[0m\u001b[1;33m)\u001b[0m\u001b[1;33m\u001b[0m\u001b[1;33m\u001b[0m\u001b[0m\n",
      "\u001b[1;31mNameError\u001b[0m: name 'requests' is not defined"
     ]
    }
   ],
   "source": [
    "# Eu estou utilizando o replit para armazenar o meu código (Servidor Global).\n",
    "# Mas eu também posso utilizar o link que a API disponibiliza após rodar a aplicação que seria o link 2 (Servidor Local).\n",
    "link = \"https://Rest-API.nicollasyan.repl.co/vendas/produtos/local/Camiseta Xadrez/quantidade\"\n",
    "link2 = \"http://127.0.0.1:5000/\"\n",
    "requisicao = requests.get(link)\n",
    "print(requisicao)\n",
    "print(requisicao.json())"
   ]
  },
  {
   "cell_type": "markdown",
   "id": "f3244c6c",
   "metadata": {},
   "source": [
    "## Criando API com flask"
   ]
  },
  {
   "cell_type": "code",
   "execution_count": 4,
   "id": "b22a848a",
   "metadata": {},
   "outputs": [
    {
     "name": "stdout",
     "output_type": "stream",
     "text": [
      " * Serving Flask app \"__main__\" (lazy loading)\n",
      " * Environment: production\n",
      "   WARNING: This is a development server. Do not use it in a production deployment.\n",
      "   Use a production WSGI server instead.\n",
      " * Debug mode: off\n"
     ]
    },
    {
     "name": "stderr",
     "output_type": "stream",
     "text": [
      " * Running on http://127.0.0.1:5000/ (Press CTRL+C to quit)\n"
     ]
    }
   ],
   "source": [
    "from flask import Flask\n",
    "import pandas as pd\n",
    "\n",
    "app = Flask(__name__) # cria o site\n",
    "tabela = pd.read_excel('Vendas - Dez.xlsx')\n",
    "\n",
    "\n",
    "@app.route('/')\n",
    "def fat():\n",
    "    faturamento = float(tabela['Valor Final'].sum())\n",
    "    return {'faturamento': faturamento}\n",
    "\n",
    "@app.route(\"/vendas/produtos\")\n",
    "def vendas_produtos():\n",
    "    tabela_vendas_produto = tabela[['Produto', 'Valor Final']].groupby('Produto').sum()\n",
    "    dic_vendas_produto = tabela_vendas_produto.to_dict()\n",
    "    return dic_vendas_produto\n",
    "\n",
    "@app.route('/vendas/produtos/local')\n",
    "def vendas_local():\n",
    "    tabela_vendas_local = tabela[['ID Loja', 'Valor Final']].groupby('ID Loja').sum()\n",
    "    dic_vendas_local = tabela_vendas_local.to_dict()\n",
    "    return dic_vendas_local\n",
    "\n",
    "@app.route('/vendas/produtos/local/<produto>')\n",
    "def fat_produto(produto):\n",
    "    tabela_vendas_produto = tabela[['Produto','Valor Final']].groupby('Produto').sum()\n",
    "    if produto in tabela_vendas_produto.index:\n",
    "        vendas_produto = tabela_vendas_produto.loc[produto]\n",
    "        dic_vendas_produto = vendas_produto.to_dict()\n",
    "        return dic_vendas_produto\n",
    "    else:\n",
    "        return {produto:\"Inexistente\"}\n",
    "\n",
    "@app.route('/vendas/produtos/local/<produto>/quantidade')\n",
    "def quant_produto(produto):\n",
    "    tabela_quant_produto = tabela[['Produto', 'Quantidade']].groupby('Produto').sum()\n",
    "    if produto in tabela_quant_produto.index:\n",
    "        vendas_quant_produtos = tabela_quant_produto.loc[produto]\n",
    "        dic_vendas_quant_produto = vendas_quant_produtos.to_dict()\n",
    "        return dic_vendas_quant_produto\n",
    "    else:\n",
    "        return {produto: 'Inexistente'}\n",
    "\n",
    "app.run() #app.run(host=\"0.0.0.0\") # coloca o site no ar no replit"
   ]
  },
  {
   "cell_type": "code",
   "execution_count": null,
   "id": "dff05de7",
   "metadata": {},
   "outputs": [],
   "source": []
  }
 ],
 "metadata": {
  "kernelspec": {
   "display_name": "Python 3",
   "language": "python",
   "name": "python3"
  },
  "language_info": {
   "codemirror_mode": {
    "name": "ipython",
    "version": 3
   },
   "file_extension": ".py",
   "mimetype": "text/x-python",
   "name": "python",
   "nbconvert_exporter": "python",
   "pygments_lexer": "ipython3",
   "version": "3.8.8"
  }
 },
 "nbformat": 4,
 "nbformat_minor": 5
}
